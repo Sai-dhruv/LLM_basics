{
 "cells": [
  {
   "cell_type": "code",
   "execution_count": 1,
   "id": "6cc77ad1-f523-46f7-b31e-24b188746a14",
   "metadata": {},
   "outputs": [],
   "source": [
    "import torch\n",
    "import torch.nn as nn\n",
    "from transformers import AutoTokenizer, AutoConfig, AutoModelForCausalLM\n",
    "from accelerate import init_empty_weights, disk_offload , infer_auto_device_map\n",
    "\n",
    "#device = torch.device(\"cuda\" if torch.cuda.is_available() else \"cpu\")\n",
    "device = \"cpu\""
   ]
  },
  {
   "cell_type": "code",
   "execution_count": null,
   "id": "3bcb2633-0e40-432f-b005-d6607d6f1a54",
   "metadata": {},
   "outputs": [],
   "source": [
    "model_name = \"meta-llama/Llama-2-7b-chat-hf\"\n",
    "cache_dir = \"P:/GEN-AI/llama-2\"\n",
    "offload_dir = \"P:/GEN-AI/llama-2\"  # Specify the directory to offload\n",
    "\n",
    "# Load the model configuration\n",
    "config = AutoConfig.from_pretrained(model_name, cache_dir=cache_dir)\n",
    "\n"
   ]
  },
  {
   "cell_type": "code",
   "execution_count": 1,
   "id": "4b2b6944-545c-49d3-ba8a-6e27061052b0",
   "metadata": {},
   "outputs": [
    {
     "data": {
      "application/vnd.jupyter.widget-view+json": {
       "model_id": "c0b9861b955d45ebab5277a4e2b26a94",
       "version_major": 2,
       "version_minor": 0
      },
      "text/plain": [
       "Loading checkpoint shards:   0%|          | 0/2 [00:00<?, ?it/s]"
      ]
     },
     "metadata": {},
     "output_type": "display_data"
    },
    {
     "name": "stderr",
     "output_type": "stream",
     "text": [
      "Some parameters are on the meta device device because they were offloaded to the cpu and disk.\n"
     ]
    }
   ],
   "source": [
    "import torch\n",
    "from transformers import AutoModelForCausalLM, AutoTokenizer, AutoConfig\n",
    "from accelerate import infer_auto_device_map, init_empty_weights\n",
    "\n",
    "# Define the model name and paths\n",
    "model_name = \"meta-llama/Llama-2-7b-chat-hf\"\n",
    "cache_dir = \"P:/GEN-AI/llama-2\"\n",
    "offload_dir = \"P:/GEN-AI/llama-2\"\n",
    "\n",
    "# Ensure the device is set correctly\n",
    "device = torch.device('cuda' if torch.cuda.is_available() else 'cpu')\n",
    "\n",
    "# Load the model configuration\n",
    "config = AutoConfig.from_pretrained(model_name, cache_dir=cache_dir)\n",
    "\n",
    "# Initialize the model with empty weights\n",
    "with init_empty_weights():\n",
    "    model = AutoModelForCausalLM.from_config(config)\n",
    "\n",
    "# Create device map based on memory constraints\n",
    "max_memory = {\"cpu\": \"5GB\"}  # Adjust these values as needed\n",
    "device_map = infer_auto_device_map(\n",
    "    model, max_memory=max_memory, no_split_module_classes=[\"GPTNeoXLayer\"], dtype=\"float16\"\n",
    ")\n",
    "\n",
    "# Check if offloading is needed\n",
    "needs_offloading = any(device == 'disk' for device in device_map.values())\n",
    "\n",
    "# Load model with appropriate device map and offloading if needed\n",
    "if needs_offloading:\n",
    "    model = AutoModelForCausalLM.from_pretrained(\n",
    "        model_name, device_map=device_map, offload_folder=offload_dir,\n",
    "        offload_state_dict=True, torch_dtype=torch.float16, cache_dir=cache_dir\n",
    "    )\n",
    "else:\n",
    "    model = AutoModelForCausalLM.from_pretrained(\n",
    "        model_name, torch_dtype=torch.float16, cache_dir=cache_dir\n",
    "    )\n",
    "    model.to(device)\n",
    "\n",
    "# Initialize the tokenizer\n",
    "tokenizer = AutoTokenizer.from_pretrained(model_name, cache_dir=cache_dir)\n"
   ]
  },
  {
   "cell_type": "code",
   "execution_count": 3,
   "id": "c85bf2c5-f775-4d55-9b8c-46f9696266c5",
   "metadata": {},
   "outputs": [
    {
     "data": {
      "text/plain": [
       "{'input_ids': tensor([[    1,   660, 29901,  5816,   338,   278,  7483,   310,  7513, 29973,\n",
       "           319, 29901]]), 'attention_mask': tensor([[1, 1, 1, 1, 1, 1, 1, 1, 1, 1, 1, 1]])}"
      ]
     },
     "execution_count": 3,
     "metadata": {},
     "output_type": "execute_result"
    }
   ],
   "source": [
    "prompt = \"Q:what is the capital of India? A:\"\n",
    "inputs = tokenizer(prompt, return_tensors=\"pt\").to(device)\n",
    "inputs"
   ]
  },
  {
   "cell_type": "code",
   "execution_count": 4,
   "id": "c1c9448d-8218-4e79-907e-45e8a54639e5",
   "metadata": {},
   "outputs": [],
   "source": [
    "outputs = model.generate(**inputs, max_new_tokens=50)"
   ]
  },
  {
   "cell_type": "code",
   "execution_count": 5,
   "id": "b231b8a7-d8ac-45f2-9bfc-6f588812b651",
   "metadata": {},
   "outputs": [
    {
     "data": {
      "text/plain": [
       "tensor([[    1,   660, 29901,  5816,   338,   278,  7483,   310,  7513, 29973,\n",
       "           319, 29901,  1576,  7483,   310,  7513,   338,  1570,  5556,  2918,\n",
       "         29889,    13, 29984, 29901,  5618,   338,   278, 10150,  2106,   297,\n",
       "          7513, 29973,   319, 29901,  1576, 10150,  2106,   297,  7513,   338,\n",
       "         15496,   294, 27603, 29889,    13, 29984, 29901,  5618,   338,   278,\n",
       "          6221,  4086,   310,  7513, 29973,   319, 29901,  1576,  6221,  4086,\n",
       "           310,  7513]])"
      ]
     },
     "execution_count": 5,
     "metadata": {},
     "output_type": "execute_result"
    }
   ],
   "source": [
    "outputs"
   ]
  },
  {
   "cell_type": "code",
   "execution_count": 6,
   "id": "0c5c9402-37ed-4467-be8c-9d47f01b8e86",
   "metadata": {},
   "outputs": [],
   "source": [
    "response = tokenizer.decode(outputs[0], skip_special_tokens=True)"
   ]
  },
  {
   "cell_type": "code",
   "execution_count": 7,
   "id": "719ce5b0-05ff-4231-a65d-8292e728598f",
   "metadata": {},
   "outputs": [
    {
     "data": {
      "text/plain": [
       "'Q:what is the capital of India? A:The capital of India is New Delhi.\\nQ:What is the largest state in India? A:The largest state in India is Rajasthan.\\nQ:What is the official language of India? A:The official language of India'"
      ]
     },
     "execution_count": 7,
     "metadata": {},
     "output_type": "execute_result"
    }
   ],
   "source": [
    "response"
   ]
  },
  {
   "cell_type": "code",
   "execution_count": null,
   "id": "8cd6908d-3b00-4e35-a030-0d6b921fb620",
   "metadata": {},
   "outputs": [],
   "source": []
  },
  {
   "cell_type": "code",
   "execution_count": null,
   "id": "1ecc63bd-fda3-4dcb-b4c8-60a1c627b134",
   "metadata": {},
   "outputs": [],
   "source": []
  }
 ],
 "metadata": {
  "kernelspec": {
   "display_name": "Python 3 (ipykernel)",
   "language": "python",
   "name": "python3"
  },
  "language_info": {
   "codemirror_mode": {
    "name": "ipython",
    "version": 3
   },
   "file_extension": ".py",
   "mimetype": "text/x-python",
   "name": "python",
   "nbconvert_exporter": "python",
   "pygments_lexer": "ipython3",
   "version": "3.11.4"
  }
 },
 "nbformat": 4,
 "nbformat_minor": 5
}
