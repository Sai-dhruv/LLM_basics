{
 "cells": [
  {
   "cell_type": "code",
   "execution_count": null,
   "id": "0aaf9308-6503-4060-8e8f-6665194dc875",
   "metadata": {},
   "outputs": [],
   "source": [
    "import pandas as pd\n",
    "from sklearn.model_selection import train_test_split\n",
    "from sklearn.preprocessing import StandardScaler, OneHotEncoder\n",
    "from sklearn.compose import ColumnTransformer\n",
    "from sklearn.pipeline import Pipeline\n",
    "from sklearn.linear_model import LogisticRegression\n",
    "from sklearn.metrics import classification_report, confusion_matrix, roc_auc_score, roc_curve\n",
    "import matplotlib.pyplot as plt\n",
    "import seaborn as sns\n"
   ]
  },
  {
   "cell_type": "code",
   "execution_count": null,
   "id": "b68b80a7-955c-4b47-98d9-bd3ace465d32",
   "metadata": {},
   "outputs": [],
   "source": [
    "# =======================\n",
    "# 1. Load Dataset\n",
    "# =======================\n",
    "df = pd.read_csv(\"cc_approvals.data\")\n",
    "\n",
    "X = df.drop(\"approved\", axis=1)\n",
    "y = df[\"approved\"]\n"
   ]
  },
  {
   "cell_type": "code",
   "execution_count": null,
   "id": "5c475212-bf39-48aa-b755-346ab0e0c31b",
   "metadata": {},
   "outputs": [],
   "source": [
    "# =======================\n",
    "# 2. Define Columns\n",
    "# =======================\n",
    "numeric = [\"age\", \"income\", \"credit_score\", \"debt_to_income_ratio\"]\n",
    "categorical = [\"employment_status\"]"
   ]
  },
  {
   "cell_type": "code",
   "execution_count": null,
   "id": "77220848-6f4e-4500-84c3-4f780473b0db",
   "metadata": {},
   "outputs": [],
   "source": [
    "# Preprocessor = scale numerics + encode categoricals\n",
    "preprocessor = ColumnTransformer(\n",
    "    transformers=[\n",
    "        (\"num\", StandardScaler(), numeric),\n",
    "        (\"cat\", OneHotEncoder(handle_unknown=\"ignore\"), categorical)\n",
    "    ]\n",
    ")"
   ]
  },
  {
   "cell_type": "markdown",
   "id": "4dc33745-032c-408b-b6a2-a9298aafc157",
   "metadata": {},
   "source": [
    "### Using LogisticRegression"
   ]
  },
  {
   "cell_type": "code",
   "execution_count": null,
   "id": "10cf51d3-b588-4809-af0d-4585829c8dc1",
   "metadata": {},
   "outputs": [],
   "source": [
    "# =======================\n",
    "# 3. Build Pipeline - Using LogisticRegression\n",
    "# =======================\n",
    "clf = Pipeline(steps=[\n",
    "    (\"preprocessor\", preprocessor),\n",
    "    (\"model\", LogisticRegression())\n",
    "])"
   ]
  },
  {
   "cell_type": "code",
   "execution_count": null,
   "id": "6be1b46a-cb0f-4843-9f1e-728b7d6261aa",
   "metadata": {},
   "outputs": [],
   "source": [
    "# =======================\n",
    "# 4. Train-Test Split\n",
    "# =======================\n",
    "X_train, X_test, y_train, y_test = train_test_split(\n",
    "    X, y, test_size=0.3, random_state=42\n",
    ")"
   ]
  },
  {
   "cell_type": "code",
   "execution_count": null,
   "id": "df068275-52a6-4629-b6e3-1540f45f9902",
   "metadata": {},
   "outputs": [],
   "source": [
    "# =======================\n",
    "# 5. Train Model\n",
    "# =======================\n",
    "clf.fit(X_train, y_train)"
   ]
  },
  {
   "cell_type": "code",
   "execution_count": null,
   "id": "2fcb86f2-bf63-463f-b681-8ef5f1e7d473",
   "metadata": {},
   "outputs": [],
   "source": [
    "# =======================\n",
    "# 6. Predictions\n",
    "# =======================\n",
    "y_pred = clf.predict(X_test)\n",
    "y_prob = clf.predict_proba(X_test)[:, 1]"
   ]
  },
  {
   "cell_type": "code",
   "execution_count": null,
   "id": "b8f4cd3d-0183-4afd-82ff-cc64572a25b7",
   "metadata": {},
   "outputs": [],
   "source": [
    "# =======================\n",
    "# 7. Evaluation\n",
    "# =======================\n",
    "print(\"\\n📊 Classification Report:\\n\")\n",
    "print(classification_report(y_test, y_pred))\n",
    "\n",
    "print(\"ROC AUC Score:\", round(roc_auc_score(y_test, y_prob), 3))"
   ]
  },
  {
   "cell_type": "code",
   "execution_count": null,
   "id": "2e53e3c8-f371-4b24-b799-e5ab6dc1230b",
   "metadata": {},
   "outputs": [],
   "source": [
    "# 8. Confusion Matrix\n",
    "cm = confusion_matrix(y_test, y_pred)\n",
    "plt.figure(figsize=(5,4))\n",
    "sns.heatmap(cm, annot=True, fmt=\"d\", cmap=\"Blues\")\n",
    "plt.xlabel(\"Predicted\")\n",
    "plt.ylabel(\"Actual\")\n",
    "plt.title(\"Confusion Matrix\")\n",
    "plt.show()"
   ]
  },
  {
   "cell_type": "code",
   "execution_count": null,
   "id": "60c50368-063f-4e28-b435-d182b6fa311c",
   "metadata": {},
   "outputs": [],
   "source": [
    "#9. ROC Curve\n",
    "fpr, tpr, thresholds = roc_curve(y_test, y_prob)\n",
    "plt.figure(figsize=(6,4))\n",
    "plt.plot(fpr, tpr, label=f\"ROC Curve (AUC={roc_auc_score(y_test, y_prob):.2f})\")\n",
    "plt.plot([0,1],[0,1],'--', color=\"gray\")\n",
    "plt.xlabel(\"False Positive Rate\")\n",
    "plt.ylabel(\"True Positive Rate\")\n",
    "plt.legend()\n",
    "plt.title(\"ROC Curve\")\n",
    "plt.show()"
   ]
  },
  {
   "cell_type": "markdown",
   "id": "dd697e86-c73b-41e9-ba9b-c87c1a5b15ac",
   "metadata": {},
   "source": [
    "### Decision Tree"
   ]
  },
  {
   "cell_type": "code",
   "execution_count": null,
   "id": "039a3286-f7d2-45e6-98c0-93d86ad1e645",
   "metadata": {},
   "outputs": [],
   "source": [
    "# =======================\n",
    "# 10. Build Pipeline - Using Decision Tree\n",
    "# =======================\n",
    "from sklearn.tree import DecisionTreeClassifier\n",
    "from sklearn.pipeline import Pipeline\n",
    "\n",
    "dt_clf = Pipeline(steps=[\n",
    "    (\"preprocessor\", preprocessor),\n",
    "    (\"model\", DecisionTreeClassifier(random_state=42))\n",
    "])\n"
   ]
  },
  {
   "cell_type": "code",
   "execution_count": null,
   "id": "146f181a-4421-45bb-a087-7a59211a716a",
   "metadata": {},
   "outputs": [],
   "source": [
    "import pandas as pd\n",
    "# =======================\n",
    "# 11. Define Input Data (same schema as training)\n",
    "# =======================\n",
    "new_data = pd.DataFrame([{\n",
    "    \"age\": 30,\n",
    "    \"income\": 55000,\n",
    "    \"credit_score\": 710,\n",
    "    \"debt_to_income_ratio\": 0.22,\n",
    "    \"employment_status\": \"Employed\"\n",
    "}])\n",
    "\n",
    "print(\"📄 Input Data:\\n\", new_data)\n",
    "\n",
    "# =======================\n",
    "# 3. Predict\n",
    "# =======================\n",
    "y_pred = loaded_model.predict(new_data)\n",
    "y_prob = loaded_model.predict_proba(new_data)[:, 1]\n",
    "\n",
    "print(\"Predicted Class:\", y_pred[0])       # 0 = Reject, 1 = Approve\n",
    "print(\"Approval Probability:\", y_prob[0])"
   ]
  },
  {
   "cell_type": "code",
   "execution_count": null,
   "id": "90474cf9-b7b0-4a70-b938-2798bd6df70f",
   "metadata": {},
   "outputs": [],
   "source": [
    "# =======================\n",
    "# 12. Train-Test Split\n",
    "# =======================\n",
    "X_train, X_test, y_train, y_test = train_test_split(\n",
    "    X, y, test_size=0.3, random_state=42\n",
    ")"
   ]
  },
  {
   "cell_type": "code",
   "execution_count": null,
   "id": "a1e58ddb-8bdd-404a-af5e-f0c9a54d390b",
   "metadata": {},
   "outputs": [],
   "source": [
    "# =======================\n",
    "# 13. Train Model\n",
    "# =======================\n",
    "dt_clf.fit(X_train, y_train)"
   ]
  },
  {
   "cell_type": "code",
   "execution_count": null,
   "id": "9ba5a0e4-9220-4c17-9116-dcfb0ae14f22",
   "metadata": {},
   "outputs": [],
   "source": [
    "# =======================\n",
    "# 14. Save Model\n",
    "# =======================\n",
    "joblib.dump(clf, \"credit_pipeline.pkl\")\n",
    "print(\"✅ Pipeline saved as credit_pipeline.pkl\")"
   ]
  },
  {
   "cell_type": "code",
   "execution_count": 1,
   "id": "0f8e6e5f-d445-4d4a-b1b2-e5fd141b73cf",
   "metadata": {},
   "outputs": [
    {
     "name": "stdout",
     "output_type": "stream",
     "text": [
      "✅ Pipeline loaded successfully\n"
     ]
    }
   ],
   "source": [
    "import joblib\n",
    "# =======================\n",
    "# 15. Load Model (Offline Use)\n",
    "# =======================\n",
    "loaded_model = joblib.load(\"credit_pipeline.pkl\")\n",
    "print(\"✅ Pipeline loaded successfully\")\n"
   ]
  },
  {
   "cell_type": "code",
   "execution_count": 2,
   "id": "68a84a82-0645-46b6-b37c-0b8f91564355",
   "metadata": {},
   "outputs": [
    {
     "name": "stdout",
     "output_type": "stream",
     "text": [
      "📄 Input Data:\n",
      "    age  income  credit_score  debt_to_income_ratio employment_status\n",
      "0   30   55000           710                  0.22          Employed\n",
      "Predicted Class: 1\n",
      "Approval Probability: 0.8021064830028617\n"
     ]
    }
   ],
   "source": [
    "import pandas as pd\n",
    "# =======================\n",
    "# 16. Define Input Data (same schema as training)\n",
    "# =======================\n",
    "new_data = pd.DataFrame([{\n",
    "    \"age\": 30,\n",
    "    \"income\": 55000,\n",
    "    \"credit_score\": 710,\n",
    "    \"debt_to_income_ratio\": 0.22,\n",
    "    \"employment_status\": \"Employed\"\n",
    "}])\n",
    "\n",
    "print(\"📄 Input Data:\\n\", new_data)\n",
    "\n",
    "# =======================\n",
    "# 17. Predict\n",
    "# =======================\n",
    "y_pred = loaded_model.predict(new_data)\n",
    "y_prob = loaded_model.predict_proba(new_data)[:, 1]\n",
    "\n",
    "print(\"Predicted Class:\", y_pred[0])       # 0 = Reject, 1 = Approve\n",
    "print(\"Approval Probability:\", y_prob[0])"
   ]
  }
 ],
 "metadata": {
  "kernelspec": {
   "display_name": "Python 3 (ipykernel)",
   "language": "python",
   "name": "python3"
  },
  "language_info": {
   "codemirror_mode": {
    "name": "ipython",
    "version": 3
   },
   "file_extension": ".py",
   "mimetype": "text/x-python",
   "name": "python",
   "nbconvert_exporter": "python",
   "pygments_lexer": "ipython3",
   "version": "3.10.11"
  }
 },
 "nbformat": 4,
 "nbformat_minor": 5
}
