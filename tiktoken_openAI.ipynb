{
 "cells": [
  {
   "cell_type": "code",
   "execution_count": 11,
   "id": "1ad74abb-7d67-42fb-81b8-f56c821c90ff",
   "metadata": {},
   "outputs": [
    {
     "name": "stdout",
     "output_type": "stream",
     "text": [
      "Requirement already satisfied: tiktoken in p:\\python_related\\global-venv\\lib\\site-packages (0.7.0)\n",
      "Requirement already satisfied: regex>=2022.1.18 in p:\\python_related\\global-venv\\lib\\site-packages (from tiktoken) (2024.5.15)\n",
      "Requirement already satisfied: requests>=2.26.0 in p:\\python_related\\global-venv\\lib\\site-packages (from tiktoken) (2.31.0)\n",
      "Requirement already satisfied: charset-normalizer<4,>=2 in p:\\python_related\\global-venv\\lib\\site-packages (from requests>=2.26.0->tiktoken) (3.3.2)\n",
      "Requirement already satisfied: idna<4,>=2.5 in p:\\python_related\\global-venv\\lib\\site-packages (from requests>=2.26.0->tiktoken) (3.7)\n",
      "Requirement already satisfied: urllib3<3,>=1.21.1 in p:\\python_related\\global-venv\\lib\\site-packages (from requests>=2.26.0->tiktoken) (2.2.1)\n",
      "Requirement already satisfied: certifi>=2017.4.17 in p:\\python_related\\global-venv\\lib\\site-packages (from requests>=2.26.0->tiktoken) (2024.2.2)\n"
     ]
    },
    {
     "name": "stderr",
     "output_type": "stream",
     "text": [
      "\n",
      "[notice] A new release of pip is available: 23.1.2 -> 24.0\n",
      "[notice] To update, run: python.exe -m pip install --upgrade pip\n"
     ]
    }
   ],
   "source": [
    "!pip install tiktoken"
   ]
  },
  {
   "cell_type": "code",
   "execution_count": 12,
   "id": "33156501-3cd5-47bd-8a7c-dfed004c5eff",
   "metadata": {},
   "outputs": [],
   "source": [
    "import tiktoken"
   ]
  },
  {
   "cell_type": "markdown",
   "id": "48e57ea2-be23-421b-9d52-7ffdcd6c831e",
   "metadata": {},
   "source": [
    "### <font color = blue> __we have multiple encoding__ </font><br>\n",
    "####  _Encoding name    |  open AI models_ <br>\n",
    "***\n",
    "cl100k_base   |  gpt-4, gpt-3.5-turbo, text-embedding-ada-002, text-embedding-3-small, text-embedding-3-large <br>\n",
    "p50k_base\t  |  Codex models, text-davinci-002, text-davinci-003 <br>\n",
    "r50k_base     |   gpt2 or\tGPT-3 <br>\n",
    "\n"
   ]
  },
  {
   "cell_type": "code",
   "execution_count": 21,
   "id": "a5dabe2b-ba80-4fc1-8bee-6653c5f3e7f5",
   "metadata": {},
   "outputs": [],
   "source": [
    "encoding = tiktoken.get_encoding(\"cl100k_base\")"
   ]
  },
  {
   "cell_type": "code",
   "execution_count": 14,
   "id": "8b31d242-6c7b-43b9-85ab-60a4d138acb3",
   "metadata": {},
   "outputs": [],
   "source": [
    "encoding = tiktoken.encoding_for_model(\"gpt-3.5-turbo\")"
   ]
  },
  {
   "cell_type": "code",
   "execution_count": 32,
   "id": "59bd28d8-6660-4692-8fbf-f63183868c85",
   "metadata": {},
   "outputs": [
    {
     "data": {
      "text/plain": [
       "[45677, 416, 10318, 1134, 37518, 2616]"
      ]
     },
     "execution_count": 32,
     "metadata": {},
     "output_type": "execute_result"
    }
   ],
   "source": [
    "encoding.encode(\"Done by Saikrishna\")"
   ]
  },
  {
   "cell_type": "code",
   "execution_count": 35,
   "id": "4e6f3806-78d1-4100-bb78-a97a51e72426",
   "metadata": {},
   "outputs": [],
   "source": [
    "encoding_r50 = tiktoken.get_encoding(\"r50k_base\")"
   ]
  },
  {
   "cell_type": "code",
   "execution_count": 36,
   "id": "af452afe-ed46-46c5-a786-0c4add80c16d",
   "metadata": {},
   "outputs": [],
   "source": [
    "encoding_r50 = tiktoken.encoding_for_model('gpt2')"
   ]
  },
  {
   "cell_type": "code",
   "execution_count": 37,
   "id": "6e9aa24f-ed6a-4434-b324-0154e76ff0e1",
   "metadata": {},
   "outputs": [
    {
     "data": {
      "text/plain": [
       "[45677, 416, 10318, 1134, 37518, 2616]"
      ]
     },
     "execution_count": 37,
     "metadata": {},
     "output_type": "execute_result"
    }
   ],
   "source": [
    "encoding_r50.encode(\"Done by Saikrishna\")"
   ]
  },
  {
   "cell_type": "markdown",
   "id": "6dd2be31-cb18-406d-91b2-802c36a6dce7",
   "metadata": {},
   "source": [
    "### <font color=green> __decode example__ </font> <br>"
   ]
  },
  {
   "cell_type": "code",
   "execution_count": 39,
   "id": "ffbc5161-73c8-413e-8f0a-83f082b4c049",
   "metadata": {},
   "outputs": [
    {
     "data": {
      "text/plain": [
       "'Done by Saikrishna'"
      ]
     },
     "execution_count": 39,
     "metadata": {},
     "output_type": "execute_result"
    }
   ],
   "source": [
    "encoding.decode([45677, 416, 10318, 1134, 37518, 2616])"
   ]
  },
  {
   "cell_type": "code",
   "execution_count": null,
   "id": "36337973-10f9-4c6a-8dea-d6edc59f6fb0",
   "metadata": {},
   "outputs": [],
   "source": []
  },
  {
   "cell_type": "code",
   "execution_count": 41,
   "id": "82dffce0-1a25-4cbc-96e6-3d7ef041dfef",
   "metadata": {},
   "outputs": [],
   "source": [
    "def compare_encodings(example_string: str) -> None:\n",
    "    \"\"\"Prints a comparison of three string encodings.\"\"\"\n",
    "    # print the example string\n",
    "    print(f'\\nExample string: \"{example_string}\"')\n",
    "    # for each encoding, print the # of tokens, the token integers, and the token bytes\n",
    "    for encoding_name in [\"r50k_base\", \"p50k_base\", \"cl100k_base\"]:\n",
    "        encoding = tiktoken.get_encoding(encoding_name)\n",
    "        token_integers = encoding.encode(example_string)\n",
    "        num_tokens = len(token_integers)\n",
    "        token_bytes = [encoding.decode_single_token_bytes(token) for token in token_integers]\n",
    "        print()\n",
    "        print(f\"{encoding_name}: {num_tokens} tokens\")\n",
    "        print(f\"token integers: {token_integers}\")\n",
    "        print(f\"token bytes: {token_bytes}\")"
   ]
  },
  {
   "cell_type": "markdown",
   "id": "d69dc141-1989-4cbb-b4a5-8cc42f71b985",
   "metadata": {},
   "source": [
    "### <font color= pink> __comparing Example__ </font> <br>"
   ]
  },
  {
   "cell_type": "code",
   "execution_count": 42,
   "id": "9459585f-14ee-4df6-a3fe-bc2ec628b6b2",
   "metadata": {},
   "outputs": [
    {
     "name": "stdout",
     "output_type": "stream",
     "text": [
      "\n",
      "Example string: \"This is written by saikrishna for practicing\"\n",
      "\n",
      "r50k_base: 10 tokens\n",
      "token integers: [1212, 318, 3194, 416, 473, 1134, 37518, 2616, 329, 18207]\n",
      "token bytes: [b'This', b' is', b' written', b' by', b' sa', b'ik', b'rish', b'na', b' for', b' practicing']\n",
      "\n",
      "p50k_base: 10 tokens\n",
      "token integers: [1212, 318, 3194, 416, 473, 1134, 37518, 2616, 329, 18207]\n",
      "token bytes: [b'This', b' is', b' written', b' by', b' sa', b'ik', b'rish', b'na', b' for', b' practicing']\n",
      "\n",
      "cl100k_base: 10 tokens\n",
      "token integers: [2028, 374, 5439, 555, 829, 1609, 95007, 3458, 369, 36666]\n",
      "token bytes: [b'This', b' is', b' written', b' by', b' sa', b'ik', b'rish', b'na', b' for', b' practicing']\n"
     ]
    }
   ],
   "source": [
    "compare_encodings(\"This is written by saikrishna for practicing\")"
   ]
  },
  {
   "cell_type": "code",
   "execution_count": null,
   "id": "cb80546f-a3c4-450a-9312-b5d83dc5bdae",
   "metadata": {},
   "outputs": [],
   "source": []
  }
 ],
 "metadata": {
  "kernelspec": {
   "display_name": "Python 3 (ipykernel)",
   "language": "python",
   "name": "python3"
  },
  "language_info": {
   "codemirror_mode": {
    "name": "ipython",
    "version": 3
   },
   "file_extension": ".py",
   "mimetype": "text/x-python",
   "name": "python",
   "nbconvert_exporter": "python",
   "pygments_lexer": "ipython3",
   "version": "3.11.4"
  }
 },
 "nbformat": 4,
 "nbformat_minor": 5
}
