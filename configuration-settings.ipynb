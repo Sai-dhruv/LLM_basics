{
 "cells": [
  {
   "cell_type": "code",
   "execution_count": 1,
   "id": "141c61f0-b83b-48f7-9fc3-614a262dcd49",
   "metadata": {},
   "outputs": [],
   "source": [
    "from transformers import pipeline, AutoModelForCausalLM, AutoTokenizer"
   ]
  },
  {
   "cell_type": "code",
   "execution_count": 2,
   "id": "948da064-a36b-4428-b1cc-a6dd1c51f65e",
   "metadata": {},
   "outputs": [],
   "source": [
    "# Load the model and tokenizer\n",
    "model_name = \"gpt2\""
   ]
  },
  {
   "cell_type": "code",
   "execution_count": 3,
   "id": "85714fe0-8ff0-4ee7-a4a4-0bc2fb5f79a0",
   "metadata": {},
   "outputs": [],
   "source": [
    "model = AutoModelForCausalLM.from_pretrained(model_name)\n",
    "tokenizer = AutoTokenizer.from_pretrained(model_name)\n",
    "\n",
    "# Initialize the text generation pipeline\n",
    "generator = pipeline(\"text-generation\", model=model, tokenizer=tokenizer)"
   ]
  },
  {
   "cell_type": "code",
   "execution_count": 8,
   "id": "9d286d97-70b8-48cb-a48e-2be502d8079f",
   "metadata": {},
   "outputs": [
    {
     "name": "stderr",
     "output_type": "stream",
     "text": [
      "Setting `pad_token_id` to `eos_token_id`:50256 for open-end generation.\n"
     ]
    }
   ],
   "source": [
    "# Define the prompt\n",
    "prompt = \"\"\" give only one example classify this review \n",
    "I loved this movie \n",
    "sentiment: positive \n",
    "classify this review: \n",
    "I do not like watching this movie \n",
    "sentiment:\"\"\"\n",
    "\n",
    "# Configure generation parameters\n",
    "temperature = 0.7\n",
    "max_new_tokens = 20\n",
    "top_p = 0.9\n",
    "top_k = 50\n",
    "\n",
    "# Perform the generation using the prompt\n",
    "result = generator(\n",
    "    prompt,\n",
    "    max_new_tokens=max_new_tokens,\n",
    "    temperature=temperature,\n",
    "    top_p=top_p,\n",
    "    top_k=top_k,\n",
    "    num_return_sequences=1\n",
    ")"
   ]
  },
  {
   "cell_type": "code",
   "execution_count": 9,
   "id": "2d819e74-9796-4f77-9030-da3aabad0bc3",
   "metadata": {},
   "outputs": [
    {
     "name": "stdout",
     "output_type": "stream",
     "text": [
      "Generated completion:  give only one example classify this review \n",
      "I loved this movie \n",
      "sentiment: positive \n",
      "classify this review: \n",
      "I do not like watching this movie \n",
      "sentiment: negative \n",
      "classify this review: \n",
      "This is a great movie. I like that it\n"
     ]
    }
   ],
   "source": [
    "# Print the result\n",
    "#print(\"Prompt:\", prompt)\n",
    "print(\"Generated completion:\", result[0]['generated_text'])"
   ]
  },
  {
   "cell_type": "code",
   "execution_count": null,
   "id": "d7a2ee02-cfc2-4280-a6f2-e2ea165f0608",
   "metadata": {},
   "outputs": [],
   "source": []
  }
 ],
 "metadata": {
  "kernelspec": {
   "display_name": "Python 3 (ipykernel)",
   "language": "python",
   "name": "python3"
  },
  "language_info": {
   "codemirror_mode": {
    "name": "ipython",
    "version": 3
   },
   "file_extension": ".py",
   "mimetype": "text/x-python",
   "name": "python",
   "nbconvert_exporter": "python",
   "pygments_lexer": "ipython3",
   "version": "3.11.4"
  }
 },
 "nbformat": 4,
 "nbformat_minor": 5
}
