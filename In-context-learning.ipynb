{
 "cells": [
  {
   "cell_type": "markdown",
   "id": "872fad69-8e29-4b8b-a27a-55d8ede6bbae",
   "metadata": {},
   "source": [
    "### zero-shot inference"
   ]
  },
  {
   "cell_type": "code",
   "execution_count": 31,
   "id": "1372fb79-8606-4783-a142-8d0a82125f44",
   "metadata": {},
   "outputs": [],
   "source": [
    "from transformers import pipeline"
   ]
  },
  {
   "cell_type": "code",
   "execution_count": 32,
   "id": "4cfcc550-d616-41a7-a48e-f51040214411",
   "metadata": {},
   "outputs": [
    {
     "name": "stderr",
     "output_type": "stream",
     "text": [
      "No model was supplied, defaulted to distilbert/distilbert-base-uncased-finetuned-sst-2-english and revision af0f99b (https://huggingface.co/distilbert/distilbert-base-uncased-finetuned-sst-2-english).\n",
      "Using a pipeline without specifying a model name and revision in production is not recommended.\n"
     ]
    }
   ],
   "source": [
    "# Initialize the sentiment analysis pipeline\n",
    "classifier = pipeline(\"sentiment-analysis\")"
   ]
  },
  {
   "cell_type": "code",
   "execution_count": 33,
   "id": "6bbfc870-dbcd-416a-a49b-f1f49192c7ad",
   "metadata": {},
   "outputs": [],
   "source": [
    "# Review text\n",
    "review = \"I don't love this movie :\""
   ]
  },
  {
   "cell_type": "code",
   "execution_count": 34,
   "id": "f970e99c-7637-44a5-bb57-832bcfd8e624",
   "metadata": {},
   "outputs": [],
   "source": [
    "# Perform sentiment analysis\n",
    "result = classifier(review)"
   ]
  },
  {
   "cell_type": "code",
   "execution_count": 35,
   "id": "2295a25b-10f4-4c18-bd3b-5f2c40113a67",
   "metadata": {},
   "outputs": [
    {
     "name": "stdout",
     "output_type": "stream",
     "text": [
      "[{'label': 'NEGATIVE', 'score': 0.9744577407836914}]\n"
     ]
    }
   ],
   "source": [
    "# Print the result\n",
    "print(result)"
   ]
  },
  {
   "cell_type": "markdown",
   "id": "6a06d0ab-1047-4100-8654-65f531fb74e8",
   "metadata": {},
   "source": [
    "### One-shot inference"
   ]
  },
  {
   "cell_type": "code",
   "execution_count": 26,
   "id": "8a39df16-fa5b-462f-a9db-2463ffb69ab0",
   "metadata": {},
   "outputs": [],
   "source": [
    "from transformers import pipeline\n",
    "from transformers import pipeline, AutoModelForCausalLM, AutoTokenizer"
   ]
  },
  {
   "cell_type": "code",
   "execution_count": 27,
   "id": "7a0a35a0-f5cb-4593-99c1-eb29f15a4142",
   "metadata": {},
   "outputs": [],
   "source": [
    "# Load the model and tokenizer with the token\n",
    "model_name = \"gpt2\"\n",
    "model = AutoModelForCausalLM.from_pretrained(model_name)\n",
    "tokenizer = AutoTokenizer.from_pretrained(model_name)\n"
   ]
  },
  {
   "cell_type": "code",
   "execution_count": 28,
   "id": "5a32433d-762c-4159-82f1-8ebb4071f3d3",
   "metadata": {},
   "outputs": [],
   "source": [
    "# Initialize the text generation pipeline\n",
    "generator = pipeline(\"text-generation\", model=model, tokenizer=tokenizer)"
   ]
  },
  {
   "cell_type": "code",
   "execution_count": null,
   "id": "851a9fe2-1ada-47a5-96ec-113d4650dfb7",
   "metadata": {},
   "outputs": [],
   "source": [
    "# Define the prompt\n",
    "prompt = \"\"\"classify this review \n",
    "I loved this movie \n",
    "sentiment: Positive \n",
    "classify this review: \n",
    "I Irritating this movie \n",
    "sentiment:\"\"\""
   ]
  },
  {
   "cell_type": "code",
   "execution_count": 29,
   "id": "7470e81f-74d4-416a-8355-51e31c1195f6",
   "metadata": {},
   "outputs": [
    {
     "name": "stderr",
     "output_type": "stream",
     "text": [
      "Truncation was not explicitly activated but `max_length` is provided a specific value, please use `truncation=True` to explicitly truncate examples to max length. Defaulting to 'longest_first' truncation strategy. If you encode pairs of sequences (GLUE-style) with the tokenizer you can select this strategy more precisely by providing a specific strategy to `truncation`.\n",
      "Setting `pad_token_id` to `eos_token_id`:50256 for open-end generation.\n"
     ]
    }
   ],
   "source": [
    "# Perform the generation using the prompt\n",
    "result = generator(prompt, max_length=50, num_return_sequences=1)"
   ]
  },
  {
   "cell_type": "code",
   "execution_count": 30,
   "id": "35a768b6-2ce0-436d-8316-aec70086921d",
   "metadata": {},
   "outputs": [
    {
     "name": "stdout",
     "output_type": "stream",
     "text": [
      "Prompt: classify this review \n",
      "I loved this movie \n",
      "sentiment: Positive \n",
      "classify this review: \n",
      "I Irritating this movie \n",
      "sentiment:\n",
      "Generated completion: classify this review \n",
      "I loved this movie \n",
      "sentiment: Positive \n",
      "classify this review: \n",
      "I Irritating this movie \n",
      "sentiment: Negative \n",
      "\n",
      "\n",
      "3 3/5 stars (2) Review Date\n"
     ]
    }
   ],
   "source": [
    "# Print the result\n",
    "print(\"Prompt:\", prompt)\n",
    "print(\"Generated completion:\", result[0]['generated_text'])\n"
   ]
  },
  {
   "cell_type": "code",
   "execution_count": null,
   "id": "27cef06f-5bde-4f70-bcc0-f3bfbbfbb743",
   "metadata": {},
   "outputs": [],
   "source": []
  }
 ],
 "metadata": {
  "kernelspec": {
   "display_name": "Python 3 (ipykernel)",
   "language": "python",
   "name": "python3"
  },
  "language_info": {
   "codemirror_mode": {
    "name": "ipython",
    "version": 3
   },
   "file_extension": ".py",
   "mimetype": "text/x-python",
   "name": "python",
   "nbconvert_exporter": "python",
   "pygments_lexer": "ipython3",
   "version": "3.11.4"
  }
 },
 "nbformat": 4,
 "nbformat_minor": 5
}
