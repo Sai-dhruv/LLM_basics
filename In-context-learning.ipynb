{
 "cells": [
  {
   "cell_type": "markdown",
   "id": "b32ebcc0-4bff-4fb7-ae94-1e09993c79cc",
   "metadata": {},
   "source": [
    "The Illustrated Transformer : https://jalammar.github.io/illustrated-transformer/"
   ]
  },
  {
   "cell_type": "markdown",
   "id": "bd582928-76a8-4b87-ac37-8bf6a3d970fd",
   "metadata": {},
   "source": [
    "**Hugging Face Transformers:**\n",
    "\n",
    "- **Framework:** Hugging Face provides a library called Transformers, which is built on top of popular deep learning frameworks like PyTorch and TensorFlow.\n",
    "\n",
    "- **Models:** It supports a wide range of pre-trained models, including BERT, GPT, RoBERTa, and more. These models are versatile and can be fine-tuned for various NLP tasks.\n",
    "\n",
    "- **Community Focus:** Hugging Face has a strong emphasis on community collaboration, making it easy for users to share and use pre-trained models."
   ]
  },
  {
   "cell_type": "code",
   "execution_count": 3,
   "id": "d21b1ba5-44dd-48be-8c99-c3bc03040abc",
   "metadata": {},
   "outputs": [
    {
     "name": "stdout",
     "output_type": "stream",
     "text": [
      "Requirement already satisfied: transformers in p:\\gen-ai\\venv.3.10\\lib\\site-packages (4.46.2)\n",
      "Requirement already satisfied: requests in p:\\gen-ai\\venv.3.10\\lib\\site-packages (from transformers) (2.32.3)\n",
      "Requirement already satisfied: filelock in p:\\gen-ai\\venv.3.10\\lib\\site-packages (from transformers) (3.16.1)\n",
      "Requirement already satisfied: regex!=2019.12.17 in p:\\gen-ai\\venv.3.10\\lib\\site-packages (from transformers) (2024.11.6)\n",
      "Requirement already satisfied: tqdm>=4.27 in p:\\gen-ai\\venv.3.10\\lib\\site-packages (from transformers) (4.66.6)\n",
      "Requirement already satisfied: numpy>=1.17 in p:\\gen-ai\\venv.3.10\\lib\\site-packages (from transformers) (1.26.4)\n",
      "Requirement already satisfied: safetensors>=0.4.1 in p:\\gen-ai\\venv.3.10\\lib\\site-packages (from transformers) (0.4.5)\n",
      "Requirement already satisfied: packaging>=20.0 in p:\\gen-ai\\venv.3.10\\lib\\site-packages (from transformers) (24.1)\n",
      "Requirement already satisfied: tokenizers<0.21,>=0.20 in p:\\gen-ai\\venv.3.10\\lib\\site-packages (from transformers) (0.20.3)\n",
      "Requirement already satisfied: huggingface-hub<1.0,>=0.23.2 in p:\\gen-ai\\venv.3.10\\lib\\site-packages (from transformers) (0.26.2)\n",
      "Requirement already satisfied: pyyaml>=5.1 in p:\\gen-ai\\venv.3.10\\lib\\site-packages (from transformers) (6.0.2)\n",
      "Requirement already satisfied: typing-extensions>=3.7.4.3 in p:\\gen-ai\\venv.3.10\\lib\\site-packages (from huggingface-hub<1.0,>=0.23.2->transformers) (4.12.2)\n",
      "Requirement already satisfied: fsspec>=2023.5.0 in p:\\gen-ai\\venv.3.10\\lib\\site-packages (from huggingface-hub<1.0,>=0.23.2->transformers) (2024.9.0)\n",
      "Requirement already satisfied: colorama in p:\\gen-ai\\venv.3.10\\lib\\site-packages (from tqdm>=4.27->transformers) (0.4.6)\n",
      "Requirement already satisfied: urllib3<3,>=1.21.1 in p:\\gen-ai\\venv.3.10\\lib\\site-packages (from requests->transformers) (2.2.3)\n",
      "Requirement already satisfied: charset-normalizer<4,>=2 in p:\\gen-ai\\venv.3.10\\lib\\site-packages (from requests->transformers) (3.4.0)\n",
      "Requirement already satisfied: idna<4,>=2.5 in p:\\gen-ai\\venv.3.10\\lib\\site-packages (from requests->transformers) (3.10)\n",
      "Requirement already satisfied: certifi>=2017.4.17 in p:\\gen-ai\\venv.3.10\\lib\\site-packages (from requests->transformers) (2024.8.30)\n"
     ]
    },
    {
     "name": "stderr",
     "output_type": "stream",
     "text": [
      "\n",
      "[notice] A new release of pip is available: 23.0.1 -> 24.3.1\n",
      "[notice] To update, run: python.exe -m pip install --upgrade pip\n"
     ]
    }
   ],
   "source": [
    "#Install transformers\n",
    "!pip install transformers"
   ]
  },
  {
   "cell_type": "markdown",
   "id": "872fad69-8e29-4b8b-a27a-55d8ede6bbae",
   "metadata": {},
   "source": [
    "### zero-shot inference"
   ]
  },
  {
   "cell_type": "code",
   "execution_count": 4,
   "id": "1372fb79-8606-4783-a142-8d0a82125f44",
   "metadata": {},
   "outputs": [],
   "source": [
    "from transformers import pipeline"
   ]
  },
  {
   "cell_type": "markdown",
   "id": "72c29874-0176-40c7-9f26-019ef80bfc0f",
   "metadata": {},
   "source": [
    "### If the model is not already cached on your machine, it will be downloaded from the Hugging Face Model Hub."
   ]
  },
  {
   "cell_type": "markdown",
   "id": "a994da73-b32b-4fd2-8799-4c31958ca0e4",
   "metadata": {},
   "source": [
    "#### What is \"sentiment-analysis\"?\n",
    "\"sentiment-analysis\" is the task identifier passed to the pipeline function.\n",
    "It tells the pipeline to load a model specifically fine-tuned for analyzing the sentiment of a given text (e.g., positive, negative, neutral).\n",
    "When you specify \"sentiment-analysis\", Hugging Face automatically downloads a pre-trained model suitable for this task (e.g., distilbert-base-uncased-finetuned-sst-2-english by default)."
   ]
  },
  {
   "cell_type": "code",
   "execution_count": 5,
   "id": "4cfcc550-d616-41a7-a48e-f51040214411",
   "metadata": {},
   "outputs": [
    {
     "name": "stderr",
     "output_type": "stream",
     "text": [
      "No model was supplied, defaulted to distilbert/distilbert-base-uncased-finetuned-sst-2-english and revision 714eb0f (https://huggingface.co/distilbert/distilbert-base-uncased-finetuned-sst-2-english).\n",
      "Using a pipeline without specifying a model name and revision in production is not recommended.\n"
     ]
    },
    {
     "data": {
      "application/vnd.jupyter.widget-view+json": {
       "model_id": "a23eda7ef4714b409b4d739f3be8f8ee",
       "version_major": 2,
       "version_minor": 0
      },
      "text/plain": [
       "config.json:   0%|          | 0.00/629 [00:00<?, ?B/s]"
      ]
     },
     "metadata": {},
     "output_type": "display_data"
    },
    {
     "name": "stderr",
     "output_type": "stream",
     "text": [
      "P:\\GEN-AI\\venv.3.10\\lib\\site-packages\\huggingface_hub\\file_download.py:139: UserWarning: `huggingface_hub` cache-system uses symlinks by default to efficiently store duplicated files but your machine does not support them in C:\\Users\\Sai Krishna\\.cache\\huggingface\\hub\\models--distilbert--distilbert-base-uncased-finetuned-sst-2-english. Caching files will still work but in a degraded version that might require more space on your disk. This warning can be disabled by setting the `HF_HUB_DISABLE_SYMLINKS_WARNING` environment variable. For more details, see https://huggingface.co/docs/huggingface_hub/how-to-cache#limitations.\n",
      "To support symlinks on Windows, you either need to activate Developer Mode or to run Python as an administrator. In order to activate developer mode, see this article: https://docs.microsoft.com/en-us/windows/apps/get-started/enable-your-device-for-development\n",
      "  warnings.warn(message)\n"
     ]
    },
    {
     "name": "stdout",
     "output_type": "stream",
     "text": [
      "WARNING:tensorflow:From P:\\GEN-AI\\venv.3.10\\lib\\site-packages\\tf_keras\\src\\losses.py:2976: The name tf.losses.sparse_softmax_cross_entropy is deprecated. Please use tf.compat.v1.losses.sparse_softmax_cross_entropy instead.\n",
      "\n"
     ]
    },
    {
     "data": {
      "application/vnd.jupyter.widget-view+json": {
       "model_id": "d3a95777129b4e53806d22079e29f0ff",
       "version_major": 2,
       "version_minor": 0
      },
      "text/plain": [
       "model.safetensors:   0%|          | 0.00/268M [00:00<?, ?B/s]"
      ]
     },
     "metadata": {},
     "output_type": "display_data"
    },
    {
     "data": {
      "application/vnd.jupyter.widget-view+json": {
       "model_id": "8ebd9482c62f411d82436bb853ab833d",
       "version_major": 2,
       "version_minor": 0
      },
      "text/plain": [
       "tokenizer_config.json:   0%|          | 0.00/48.0 [00:00<?, ?B/s]"
      ]
     },
     "metadata": {},
     "output_type": "display_data"
    },
    {
     "data": {
      "application/vnd.jupyter.widget-view+json": {
       "model_id": "b15df461a946465aa82315317440f9b2",
       "version_major": 2,
       "version_minor": 0
      },
      "text/plain": [
       "vocab.txt:   0%|          | 0.00/232k [00:00<?, ?B/s]"
      ]
     },
     "metadata": {},
     "output_type": "display_data"
    }
   ],
   "source": [
    "# Initialize the sentiment analysis pipeline\n",
    "classifier = pipeline(\"sentiment-analysis\")"
   ]
  },
  {
   "cell_type": "markdown",
   "id": "5347a356-8f97-40f4-9b6c-c1f3f227e446",
   "metadata": {},
   "source": [
    "#### Why Use pipeline?\n",
    "Ease of Use: No need to manually load models or tokenizers.<br>\n",
    "Pre-trained Models: Access to a wide range of tasks without additional training.<br>\n",
    "Flexibility: You can easily swap out models by specifying a model name in the pipeline.<br>"
   ]
  },
  {
   "cell_type": "markdown",
   "id": "5b8af780-170d-46b5-b8d4-b05b6866cc3f",
   "metadata": {},
   "source": [
    "##### What Happens in the Background?\n",
    "When you call pipeline(\"sentiment-analysis\"), the following happens:\n",
    "\n",
    "Model Selection:\n",
    "\n",
    "A pre-trained model fine-tuned on a sentiment analysis dataset (like SST-2) is selected.\n",
    "By default, Hugging Face uses distilbert-base-uncased-finetuned-sst-2-english unless you specify a different model.\n",
    "Model Download:\n",
    "\n",
    "If the model is not already cached on your machine, it will be downloaded from the Hugging Face Model Hub.\n",
    "Tokenizer Initialization:\n",
    "\n",
    "A tokenizer compatible with the model is loaded. The tokenizer is responsible for converting input text into tokens (numerical format) that the model can process.\n",
    "Pipeline Setup:\n",
    "\n",
    "A unified pipeline object is created that integrates the model and tokenizer, making it easy to perform sentiment analysis.\n"
   ]
  },
  {
   "cell_type": "markdown",
   "id": "b73a1316-161e-4bb2-8cee-87c45051a0a5",
   "metadata": {},
   "source": [
    "### If you want to specify the model use below one\n",
    "classifier = pipeline(\"sentiment-analysis\", model=\"nlptown/bert-base-multilingual-uncased-sentiment\")"
   ]
  },
  {
   "cell_type": "code",
   "execution_count": 6,
   "id": "6bbfc870-dbcd-416a-a49b-f1f49192c7ad",
   "metadata": {},
   "outputs": [],
   "source": [
    "# Review text\n",
    "review = \"I don't love this movie :\""
   ]
  },
  {
   "cell_type": "code",
   "execution_count": 7,
   "id": "f970e99c-7637-44a5-bb57-832bcfd8e624",
   "metadata": {},
   "outputs": [],
   "source": [
    "# Perform sentiment analysis\n",
    "result = classifier(review)"
   ]
  },
  {
   "cell_type": "code",
   "execution_count": 8,
   "id": "2295a25b-10f4-4c18-bd3b-5f2c40113a67",
   "metadata": {},
   "outputs": [
    {
     "name": "stdout",
     "output_type": "stream",
     "text": [
      "[{'label': 'NEGATIVE', 'score': 0.9744577407836914}]\n"
     ]
    }
   ],
   "source": [
    "# Print the result\n",
    "print(result)"
   ]
  },
  {
   "cell_type": "markdown",
   "id": "6a06d0ab-1047-4100-8654-65f531fb74e8",
   "metadata": {},
   "source": [
    "### One-shot inference"
   ]
  },
  {
   "cell_type": "code",
   "execution_count": 26,
   "id": "8a39df16-fa5b-462f-a9db-2463ffb69ab0",
   "metadata": {},
   "outputs": [],
   "source": [
    "from transformers import pipeline\n",
    "from transformers import pipeline, AutoModelForCausalLM, AutoTokenizer"
   ]
  },
  {
   "cell_type": "code",
   "execution_count": 27,
   "id": "7a0a35a0-f5cb-4593-99c1-eb29f15a4142",
   "metadata": {},
   "outputs": [],
   "source": [
    "# Load the model and tokenizer with the token\n",
    "model_name = \"gpt2\"\n",
    "model = AutoModelForCausalLM.from_pretrained(model_name)\n",
    "tokenizer = AutoTokenizer.from_pretrained(model_name)\n"
   ]
  },
  {
   "cell_type": "code",
   "execution_count": 28,
   "id": "5a32433d-762c-4159-82f1-8ebb4071f3d3",
   "metadata": {},
   "outputs": [],
   "source": [
    "# Initialize the text generation pipeline\n",
    "generator = pipeline(\"text-generation\", model=model, tokenizer=tokenizer)"
   ]
  },
  {
   "cell_type": "code",
   "execution_count": null,
   "id": "851a9fe2-1ada-47a5-96ec-113d4650dfb7",
   "metadata": {},
   "outputs": [],
   "source": [
    "# Define the prompt\n",
    "prompt = \"\"\"classify this review \n",
    "I loved this movie \n",
    "sentiment: Positive \n",
    "classify this review: \n",
    "I Irritating this movie \n",
    "sentiment:\"\"\""
   ]
  },
  {
   "cell_type": "code",
   "execution_count": 29,
   "id": "7470e81f-74d4-416a-8355-51e31c1195f6",
   "metadata": {},
   "outputs": [
    {
     "name": "stderr",
     "output_type": "stream",
     "text": [
      "Truncation was not explicitly activated but `max_length` is provided a specific value, please use `truncation=True` to explicitly truncate examples to max length. Defaulting to 'longest_first' truncation strategy. If you encode pairs of sequences (GLUE-style) with the tokenizer you can select this strategy more precisely by providing a specific strategy to `truncation`.\n",
      "Setting `pad_token_id` to `eos_token_id`:50256 for open-end generation.\n"
     ]
    }
   ],
   "source": [
    "# Perform the generation using the prompt\n",
    "result = generator(prompt, max_length=50, num_return_sequences=1)"
   ]
  },
  {
   "cell_type": "code",
   "execution_count": 30,
   "id": "35a768b6-2ce0-436d-8316-aec70086921d",
   "metadata": {},
   "outputs": [
    {
     "name": "stdout",
     "output_type": "stream",
     "text": [
      "Prompt: classify this review \n",
      "I loved this movie \n",
      "sentiment: Positive \n",
      "classify this review: \n",
      "I Irritating this movie \n",
      "sentiment:\n",
      "Generated completion: classify this review \n",
      "I loved this movie \n",
      "sentiment: Positive \n",
      "classify this review: \n",
      "I Irritating this movie \n",
      "sentiment: Negative \n",
      "\n",
      "\n",
      "3 3/5 stars (2) Review Date\n"
     ]
    }
   ],
   "source": [
    "# Print the result\n",
    "print(\"Prompt:\", prompt)\n",
    "print(\"Generated completion:\", result[0]['generated_text'])\n"
   ]
  },
  {
   "cell_type": "code",
   "execution_count": null,
   "id": "27cef06f-5bde-4f70-bcc0-f3bfbbfbb743",
   "metadata": {},
   "outputs": [],
   "source": []
  }
 ],
 "metadata": {
  "kernelspec": {
   "display_name": "Python 3 (ipykernel)",
   "language": "python",
   "name": "python3"
  },
  "language_info": {
   "codemirror_mode": {
    "name": "ipython",
    "version": 3
   },
   "file_extension": ".py",
   "mimetype": "text/x-python",
   "name": "python",
   "nbconvert_exporter": "python",
   "pygments_lexer": "ipython3",
   "version": "3.10.11"
  }
 },
 "nbformat": 4,
 "nbformat_minor": 5
}
